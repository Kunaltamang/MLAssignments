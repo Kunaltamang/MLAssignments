{
 "cells": [
  {
   "cell_type": "code",
   "execution_count": 43,
   "metadata": {},
   "outputs": [
    {
     "data": {
      "text/plain": [
       "array([[ 1,  1,  1],\n",
       "       [ 4,  2,  1],\n",
       "       [ 9,  3,  1],\n",
       "       [25,  5,  1]])"
      ]
     },
     "execution_count": 43,
     "metadata": {},
     "output_type": "execute_result"
    }
   ],
   "source": [
    "import numpy\n",
    "def vandermonde(array,N,increasing):\n",
    "    m=[]\n",
    "    n=[]\n",
    "    for i in range(N):\n",
    "        a=np.array(array)**(N-1-i)\n",
    "        m.append(a)\n",
    "        b=np.array(array)**(i)\n",
    "        n.append(b)\n",
    "    if increasing ==False:\n",
    "        c=np.column_stack(m)\n",
    "    elif increasing == True:\n",
    "        c=np.column_stack(n)\n",
    "    \n",
    "    return c\n",
    "\n",
    "a=[1,2,3,5]\n",
    "vandermonde(a,3,False)"
   ]
  },
  {
   "cell_type": "code",
   "execution_count": 44,
   "metadata": {},
   "outputs": [
    {
     "name": "stdout",
     "output_type": "stream",
     "text": [
      "5.0\n",
      "4.666666666666667\n",
      "5.666666666666667\n",
      "6.666666666666667\n",
      "9.666666666666666\n",
      "28.666666666666668\n",
      "49.333333333333336\n",
      "72.66666666666667\n",
      "84.0\n",
      "93.33333333333333\n",
      "116.33333333333333\n"
     ]
    }
   ],
   "source": [
    "def movavg(lis,k):\n",
    "\n",
    "    for i in range(len(lis)-k+1):\n",
    "        a = np.sum(np.array(lis[i:i+k]))/k\n",
    "       \n",
    "        print(a)\n",
    "\n",
    "lis=[3, 5, 7, 2, 8, 10, 11, 65, 72, 81, 99, 100, 150]\n",
    "k=3\n",
    "movavg(lis,k)\n"
   ]
  },
  {
   "cell_type": "code",
   "execution_count": null,
   "metadata": {},
   "outputs": [],
   "source": []
  }
 ],
 "metadata": {
  "kernelspec": {
   "display_name": "Python 3",
   "language": "python",
   "name": "python3"
  },
  "language_info": {
   "codemirror_mode": {
    "name": "ipython",
    "version": 3
   },
   "file_extension": ".py",
   "mimetype": "text/x-python",
   "name": "python",
   "nbconvert_exporter": "python",
   "pygments_lexer": "ipython3",
   "version": "3.7.1"
  }
 },
 "nbformat": 4,
 "nbformat_minor": 2
}
