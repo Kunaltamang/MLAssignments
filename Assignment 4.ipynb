{
 "cells": [
  {
   "cell_type": "markdown",
   "metadata": {},
   "source": [
    "Question 1.1"
   ]
  },
  {
   "cell_type": "code",
   "execution_count": 28,
   "metadata": {},
   "outputs": [
    {
     "name": "stdout",
     "output_type": "stream",
     "text": [
      "2.9047375096555625\n"
     ]
    }
   ],
   "source": [
    "class Parent:\n",
    "    def __init__(self,side1,side2,side3):\n",
    "        self.side1=side1\n",
    "        self.side2=side2\n",
    "        self.side3=side3\n",
    "\n",
    "class subclass(Parent):\n",
    " \n",
    "    def Area(self):\n",
    "        s=(self.side1+self.side2+self.side3)/2\n",
    "        A = (s*(s-self.side1)*(s-self.side2)*(s-self.side3))**0.5\n",
    "        return A\n",
    "  \n",
    "area=subclass(2,3,4)\n",
    "\n",
    "print(area.Area())\n",
    "        \n",
    "    "
   ]
  },
  {
   "cell_type": "markdown",
   "metadata": {},
   "source": [
    "Question 1.2"
   ]
  },
  {
   "cell_type": "code",
   "execution_count": 29,
   "metadata": {},
   "outputs": [
    {
     "data": {
      "text/plain": [
       "['a', 'b', 'c', 'd', 'e']"
      ]
     },
     "execution_count": 29,
     "metadata": {},
     "output_type": "execute_result"
    }
   ],
   "source": [
    "def filter_long_words(list_words,integer):\n",
    "    c=[list_words[i] for i in range(integer)]\n",
    "    return c\n",
    "\n",
    "list_words=['a','b','c','d','e','f','g','h']\n",
    "integer = 5\n",
    "filter_long_words(list_words,integer)\n",
    "    "
   ]
  },
  {
   "cell_type": "markdown",
   "metadata": {},
   "source": [
    "Question 2.1"
   ]
  },
  {
   "cell_type": "code",
   "execution_count": 30,
   "metadata": {},
   "outputs": [
    {
     "data": {
      "text/plain": [
       "[1, 3, 4]"
      ]
     },
     "execution_count": 30,
     "metadata": {},
     "output_type": "execute_result"
    }
   ],
   "source": [
    "def mapfunc(list_words):\n",
    "    m=[len(x) for x in list_words]\n",
    "    return m\n",
    "c=['a','abc','abcd']\n",
    "mapfunc(c)\n",
    "        "
   ]
  },
  {
   "cell_type": "markdown",
   "metadata": {},
   "source": [
    "Question 2.2"
   ]
  },
  {
   "cell_type": "code",
   "execution_count": 31,
   "metadata": {},
   "outputs": [
    {
     "name": "stdout",
     "output_type": "stream",
     "text": [
      "True\n",
      "False\n"
     ]
    }
   ],
   "source": [
    "def vowel(string):\n",
    "    a =['a','e','i','o','u']\n",
    "    if len(string)==1 and string in a:\n",
    "        return True\n",
    "    else:\n",
    "        return False\n",
    "\n",
    "print(vowel('o'))\n",
    "print(vowel('m'))\n",
    "        "
   ]
  }
 ],
 "metadata": {
  "kernelspec": {
   "display_name": "Python 3",
   "language": "python",
   "name": "python3"
  }
 },
 "nbformat": 4,
 "nbformat_minor": 2
}
